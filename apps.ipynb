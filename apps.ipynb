{
 "cells": [
  {
   "cell_type": "code",
   "execution_count": null,
   "id": "df975983",
   "metadata": {},
   "outputs": [],
   "source": [
    "import streamlit as st\n",
    "\n",
    "def auth():\n",
    "    user_id = st.sidebar.text_input('Input Username')\n",
    "    user_pw = st.sidebar.text_input('Input Password', type='password')\n",
    "    \n",
    "\n",
    "    if user_id == 'ratp' and  user_pw == 'ratp': # You can call this auth info from DB or somewhere safe.\n",
    "        auth_result = True\n",
    "    else:\n",
    "        auth_result = False\n",
    "\n",
    "    return auth_result\n",
    "\n",
    "\n",
    "def create_layout():\n",
    "    auth_result = auth()\n",
    "\n",
    "    if auth_result:\n",
    "        st.sidebar.success('Correct Auth Info :)')\n",
    "        st.title('WELCOME TO RATP')\n",
    "        st.header('Header')\n",
    "        st.subheader('Sub Header')\n",
    "    else:\n",
    "        st.sidebar.warning('Wrong Authentication !!!')\n",
    "\n",
    "\n",
    "def main():\n",
    "    create_layout()\n",
    "\n",
    "\n",
    "if __name__ == '__main__':\n",
    "    main()"
   ]
  }
 ],
 "metadata": {
  "kernelspec": {
   "display_name": "Python 3 (ipykernel)",
   "language": "python",
   "name": "python3"
  },
  "language_info": {
   "codemirror_mode": {
    "name": "ipython",
    "version": 3
   },
   "file_extension": ".py",
   "mimetype": "text/x-python",
   "name": "python",
   "nbconvert_exporter": "python",
   "pygments_lexer": "ipython3",
   "version": "3.9.13"
  }
 },
 "nbformat": 4,
 "nbformat_minor": 5
}
